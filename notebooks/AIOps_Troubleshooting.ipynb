{
  "cells": [
    {
      "cell_type": "markdown",
      "id": "911b3b37-3b29-4833-94f2-bfe47af00c83",
      "metadata": {
        "id": "911b3b37-3b29-4833-94f2-bfe47af00c83"
      },
      "source": [
        "# Troubleshooting Assistant\n"
      ]
    },
    {
      "cell_type": "code",
      "source": [
        "!curl https://ollama.ai/install.sh | sh\n",
        "!nohup ollama serve &\n",
        "!ollama pull deepseek-r1:32b\n",
        "!ollama list\n"
      ],
      "metadata": {
        "id": "ME64YO4szYo7"
      },
      "id": "ME64YO4szYo7",
      "execution_count": null,
      "outputs": []
    },
    {
      "cell_type": "code",
      "source": [
        "%pip install -U langchain-ollama"
      ],
      "metadata": {
        "id": "bNlw1iKnzl-p"
      },
      "id": "bNlw1iKnzl-p",
      "execution_count": null,
      "outputs": []
    },
    {
      "cell_type": "code",
      "source": [
        "from langchain_core.prompts import ChatPromptTemplate\n",
        "from langchain_ollama import OllamaLLM\n",
        "\n",
        "template = \"\"\"question:{question}\n",
        "Answer: Let's think step by step\"\"\"\n",
        "\n",
        "prompt = ChatPromptTemplate.from_template(template)\n",
        "\n",
        "qwq_model = OllamaLLM(model=\"qwq:32b\")\n",
        "\n",
        "chain = prompt|qwq_model\n",
        "\n",
        "chain.invoke({\"question\":\"what car is the fastest car in the world\"})"
      ],
      "metadata": {
        "colab": {
          "base_uri": "https://localhost:8080/",
          "height": 139
        },
        "collapsed": true,
        "id": "xKe-pZj2znfo",
        "outputId": "ac5958b3-8a2f-4714-9f66-4fc203c152fb"
      },
      "id": "xKe-pZj2znfo",
      "execution_count": null,
      "outputs": [
        {
          "output_type": "execute_result",
          "data": {
            "text/plain": [
              "\"<think>\\nOkay, so I'm trying to figure out what the fastest car in the world is. Hmm, I've heard people talk about different cars being the fastest, but I'm not entirely sure which one holds the record right now. Let me start by recalling some information.\\n\\nI remember that Bugatti makes really fast cars. They have models like the Veyron and the Chiron. The Veyron was a big deal when it came out because it was the first car to officially go over 200 mph, if I'm not mistaken. But then they released the Chiron, which is even more powerful. I think the Chiron has something like 1500 horsepower. That's insane! So maybe that's the current holder?\\n\\nBut wait, I've also heard about a car called the Koenigsegg Jesko Absolut. Koenigsegg is another luxury and high-performance car manufacturer from Sweden. They claim to have set some records too. The Jesko might be one of their fastest models. I think they mentioned that it can go over 300 mph, which would make it faster than the Bugatti Chiron.\\n\\nThere's also the McLaren Speedtail, which is a hypercar made by McLaren. I believe it was designed to be as fast as possible, and they've talked about it breaking some records. But I'm not sure if it's faster than the Koenigsegg or the Bugatti.\\n\\nI should check what each of these cars claims. The Bugatti Chiron has a top speed around 304 mph, according to their official numbers. The Koenigsegg Jesko Absolut is said to reach up to 330 mph, which would make it faster than the Chiron. However, I'm not sure if that's been independently verified or just a claim by the manufacturer.\\n\\nAlso, there might be other factors like aerodynamics and engine power. The Koenigsegg probably has an advanced aerodynamic design to handle such high speeds without losing control. They've worked on making it as efficient as possible in terms of downforce while keeping drag low, which is crucial for speed.\\n\\nOn the other hand, the McLaren Speedtail was designed with a lot of thought into its shape and materials to reduce air resistance. It's supposed to be very streamlined, contributing to higher speeds. I think their top speed claim is around 250 mph or so, but that might not be as high as the others.\\n\\nI also remember reading about electric cars entering the hypercar segment, like the Tesla Model S Plaid or maybe something from Rimac Automobili. But I'm not sure if they've broken any records yet in terms of top speed compared to internal combustion engines. Electric motors are powerful, but maybe the established hypercars still hold the crown.\\n\\nAnother thing is that sometimes manufacturers use different methods to measure their cars' speeds. Some do it on a test track under controlled conditions, while others might have specific settings or even modified versions for record attempts. So it's possible that not all claims are directly comparable.\\n\\nIn summary, considering Bugatti Chiron at 304 mph, Koenigsegg Jesko Absolut aiming for over 300 mph (maybe up to 330), and McLaren Speedtail in the mid-200s. So the Jesko might currently be the fastest if its claims are accurate. However, it's always good to check recent updates because automotive technology is advancing rapidly.\\n\\nI should also think about any other contenders. Maybe there's a new model from another manufacturer that I'm not aware of yet. For instance, brands like Pagani or Ferrari have some very fast cars too, but I don't think they surpass the ones mentioned above in terms of top speed.\\n\\nSo, to answer the question: The fastest car in the world as of now is likely the Koenigsegg Jesko Absolut, with a claimed top speed exceeding 300 mph. However, it's important to verify this information because manufacturers sometimes have different ways of measuring and announcing their cars' performance.\\n</think>\\n\\nThe fastest car in the world as of now is the **Koenigsegg Jesko Absolut**, which claims a top speed exceeding 300 mph, with some reports suggesting it could reach up to 330 mph. This Swedish hypercar is known for its advanced aerodynamics and powerful engine design, contributing to its high-speed performance. While other notable contenders include the Bugatti Chiron (with a top speed of around 304 mph) and the McLaren Speedtail (in the mid-200s), the Jesko Absolut's claimed speed currently positions it as the fastest. However, always check recent updates for any advancements or new models that might surpass this record.\""
            ],
            "application/vnd.google.colaboratory.intrinsic+json": {
              "type": "string"
            }
          },
          "metadata": {},
          "execution_count": 3
        }
      ]
    },
    {
      "cell_type": "code",
      "execution_count": null,
      "id": "f5762271-8736-4e94-9444-8c92bd0e8074",
      "metadata": {
        "height": 64,
        "id": "f5762271-8736-4e94-9444-8c92bd0e8074",
        "colab": {
          "base_uri": "https://localhost:8080/"
        },
        "outputId": "30d990c1-5913-47aa-8969-e58d6660bcf5"
      },
      "outputs": [
        {
          "output_type": "stream",
          "name": "stdout",
          "text": [
            "Requirement already satisfied: langchain_openai in /usr/local/lib/python3.11/dist-packages (0.3.9)\n",
            "Requirement already satisfied: langchain_core in /usr/local/lib/python3.11/dist-packages (0.3.47)\n",
            "Requirement already satisfied: langgraph in /usr/local/lib/python3.11/dist-packages (0.3.18)\n",
            "Requirement already satisfied: openai<2.0.0,>=1.66.3 in /usr/local/lib/python3.11/dist-packages (from langchain_openai) (1.66.3)\n",
            "Requirement already satisfied: tiktoken<1,>=0.7 in /usr/local/lib/python3.11/dist-packages (from langchain_openai) (0.9.0)\n",
            "Requirement already satisfied: langsmith<0.4,>=0.1.125 in /usr/local/lib/python3.11/dist-packages (from langchain_core) (0.3.15)\n",
            "Requirement already satisfied: tenacity!=8.4.0,<10.0.0,>=8.1.0 in /usr/local/lib/python3.11/dist-packages (from langchain_core) (9.0.0)\n",
            "Requirement already satisfied: jsonpatch<2.0,>=1.33 in /usr/local/lib/python3.11/dist-packages (from langchain_core) (1.33)\n",
            "Requirement already satisfied: PyYAML>=5.3 in /usr/local/lib/python3.11/dist-packages (from langchain_core) (6.0.2)\n",
            "Requirement already satisfied: packaging<25,>=23.2 in /usr/local/lib/python3.11/dist-packages (from langchain_core) (24.2)\n",
            "Requirement already satisfied: typing-extensions>=4.7 in /usr/local/lib/python3.11/dist-packages (from langchain_core) (4.12.2)\n",
            "Requirement already satisfied: pydantic<3.0.0,>=2.5.2 in /usr/local/lib/python3.11/dist-packages (from langchain_core) (2.10.6)\n",
            "Requirement already satisfied: langgraph-checkpoint<3.0.0,>=2.0.10 in /usr/local/lib/python3.11/dist-packages (from langgraph) (2.0.21)\n",
            "Requirement already satisfied: langgraph-prebuilt<0.2,>=0.1.1 in /usr/local/lib/python3.11/dist-packages (from langgraph) (0.1.4)\n",
            "Requirement already satisfied: langgraph-sdk<0.2.0,>=0.1.42 in /usr/local/lib/python3.11/dist-packages (from langgraph) (0.1.58)\n",
            "Requirement already satisfied: jsonpointer>=1.9 in /usr/local/lib/python3.11/dist-packages (from jsonpatch<2.0,>=1.33->langchain_core) (3.0.0)\n",
            "Requirement already satisfied: msgpack<2.0.0,>=1.1.0 in /usr/local/lib/python3.11/dist-packages (from langgraph-checkpoint<3.0.0,>=2.0.10->langgraph) (1.1.0)\n",
            "Requirement already satisfied: httpx>=0.25.2 in /usr/local/lib/python3.11/dist-packages (from langgraph-sdk<0.2.0,>=0.1.42->langgraph) (0.28.1)\n",
            "Requirement already satisfied: orjson>=3.10.1 in /usr/local/lib/python3.11/dist-packages (from langgraph-sdk<0.2.0,>=0.1.42->langgraph) (3.10.15)\n",
            "Requirement already satisfied: requests<3,>=2 in /usr/local/lib/python3.11/dist-packages (from langsmith<0.4,>=0.1.125->langchain_core) (2.32.3)\n",
            "Requirement already satisfied: requests-toolbelt<2.0.0,>=1.0.0 in /usr/local/lib/python3.11/dist-packages (from langsmith<0.4,>=0.1.125->langchain_core) (1.0.0)\n",
            "Requirement already satisfied: zstandard<0.24.0,>=0.23.0 in /usr/local/lib/python3.11/dist-packages (from langsmith<0.4,>=0.1.125->langchain_core) (0.23.0)\n",
            "Requirement already satisfied: anyio<5,>=3.5.0 in /usr/local/lib/python3.11/dist-packages (from openai<2.0.0,>=1.66.3->langchain_openai) (4.9.0)\n",
            "Requirement already satisfied: distro<2,>=1.7.0 in /usr/local/lib/python3.11/dist-packages (from openai<2.0.0,>=1.66.3->langchain_openai) (1.9.0)\n",
            "Requirement already satisfied: jiter<1,>=0.4.0 in /usr/local/lib/python3.11/dist-packages (from openai<2.0.0,>=1.66.3->langchain_openai) (0.9.0)\n",
            "Requirement already satisfied: sniffio in /usr/local/lib/python3.11/dist-packages (from openai<2.0.0,>=1.66.3->langchain_openai) (1.3.1)\n",
            "Requirement already satisfied: tqdm>4 in /usr/local/lib/python3.11/dist-packages (from openai<2.0.0,>=1.66.3->langchain_openai) (4.67.1)\n",
            "Requirement already satisfied: annotated-types>=0.6.0 in /usr/local/lib/python3.11/dist-packages (from pydantic<3.0.0,>=2.5.2->langchain_core) (0.7.0)\n",
            "Requirement already satisfied: pydantic-core==2.27.2 in /usr/local/lib/python3.11/dist-packages (from pydantic<3.0.0,>=2.5.2->langchain_core) (2.27.2)\n",
            "Requirement already satisfied: regex>=2022.1.18 in /usr/local/lib/python3.11/dist-packages (from tiktoken<1,>=0.7->langchain_openai) (2024.11.6)\n",
            "Requirement already satisfied: idna>=2.8 in /usr/local/lib/python3.11/dist-packages (from anyio<5,>=3.5.0->openai<2.0.0,>=1.66.3->langchain_openai) (3.10)\n",
            "Requirement already satisfied: certifi in /usr/local/lib/python3.11/dist-packages (from httpx>=0.25.2->langgraph-sdk<0.2.0,>=0.1.42->langgraph) (2025.1.31)\n",
            "Requirement already satisfied: httpcore==1.* in /usr/local/lib/python3.11/dist-packages (from httpx>=0.25.2->langgraph-sdk<0.2.0,>=0.1.42->langgraph) (1.0.7)\n",
            "Requirement already satisfied: h11<0.15,>=0.13 in /usr/local/lib/python3.11/dist-packages (from httpcore==1.*->httpx>=0.25.2->langgraph-sdk<0.2.0,>=0.1.42->langgraph) (0.14.0)\n",
            "Requirement already satisfied: charset-normalizer<4,>=2 in /usr/local/lib/python3.11/dist-packages (from requests<3,>=2->langsmith<0.4,>=0.1.125->langchain_core) (3.4.1)\n",
            "Requirement already satisfied: urllib3<3,>=1.21.1 in /usr/local/lib/python3.11/dist-packages (from requests<3,>=2->langsmith<0.4,>=0.1.125->langchain_core) (2.3.0)\n",
            "Reading package lists... Done\n",
            "Building dependency tree... Done\n",
            "Reading state information... Done\n",
            "Note, selecting 'libgraphviz-dev' instead of 'graphviz-dev'\n",
            "graphviz is already the newest version (2.42.2-6ubuntu0.1).\n",
            "The following additional packages will be installed:\n",
            "  libgail-common libgail18 libgtk2.0-0 libgtk2.0-bin libgtk2.0-common\n",
            "  libgvc6-plugins-gtk librsvg2-common libxdot4\n",
            "Suggested packages:\n",
            "  gvfs\n",
            "The following NEW packages will be installed:\n",
            "  libgail-common libgail18 libgraphviz-dev libgtk2.0-0 libgtk2.0-bin\n",
            "  libgtk2.0-common libgvc6-plugins-gtk librsvg2-common libxdot4\n",
            "0 upgraded, 9 newly installed, 0 to remove and 29 not upgraded.\n",
            "Need to get 2,434 kB of archives.\n",
            "After this operation, 7,681 kB of additional disk space will be used.\n",
            "Get:1 http://archive.ubuntu.com/ubuntu jammy-updates/main amd64 libgtk2.0-common all 2.24.33-2ubuntu2.1 [125 kB]\n",
            "Get:2 http://archive.ubuntu.com/ubuntu jammy-updates/main amd64 libgtk2.0-0 amd64 2.24.33-2ubuntu2.1 [2,038 kB]\n",
            "Get:3 http://archive.ubuntu.com/ubuntu jammy-updates/main amd64 libgail18 amd64 2.24.33-2ubuntu2.1 [15.9 kB]\n",
            "Get:4 http://archive.ubuntu.com/ubuntu jammy-updates/main amd64 libgail-common amd64 2.24.33-2ubuntu2.1 [132 kB]\n",
            "Get:5 http://archive.ubuntu.com/ubuntu jammy-updates/universe amd64 libxdot4 amd64 2.42.2-6ubuntu0.1 [16.4 kB]\n",
            "Get:6 http://archive.ubuntu.com/ubuntu jammy-updates/universe amd64 libgvc6-plugins-gtk amd64 2.42.2-6ubuntu0.1 [22.5 kB]\n",
            "Get:7 http://archive.ubuntu.com/ubuntu jammy-updates/universe amd64 libgraphviz-dev amd64 2.42.2-6ubuntu0.1 [58.5 kB]\n",
            "Get:8 http://archive.ubuntu.com/ubuntu jammy-updates/main amd64 libgtk2.0-bin amd64 2.24.33-2ubuntu2.1 [7,936 B]\n",
            "Get:9 http://archive.ubuntu.com/ubuntu jammy-updates/main amd64 librsvg2-common amd64 2.52.5+dfsg-3ubuntu0.2 [17.7 kB]\n",
            "Fetched 2,434 kB in 1s (2,268 kB/s)\n",
            "debconf: unable to initialize frontend: Dialog\n",
            "debconf: (No usable dialog-like program is installed, so the dialog based frontend cannot be used. at /usr/share/perl5/Debconf/FrontEnd/Dialog.pm line 78, <> line 9.)\n",
            "debconf: falling back to frontend: Readline\n",
            "debconf: unable to initialize frontend: Readline\n",
            "debconf: (This frontend requires a controlling tty.)\n",
            "debconf: falling back to frontend: Teletype\n",
            "dpkg-preconfigure: unable to re-open stdin: \n",
            "Selecting previously unselected package libgtk2.0-common.\n",
            "(Reading database ... 126209 files and directories currently installed.)\n",
            "Preparing to unpack .../0-libgtk2.0-common_2.24.33-2ubuntu2.1_all.deb ...\n",
            "Unpacking libgtk2.0-common (2.24.33-2ubuntu2.1) ...\n",
            "Selecting previously unselected package libgtk2.0-0:amd64.\n",
            "Preparing to unpack .../1-libgtk2.0-0_2.24.33-2ubuntu2.1_amd64.deb ...\n",
            "Unpacking libgtk2.0-0:amd64 (2.24.33-2ubuntu2.1) ...\n",
            "Selecting previously unselected package libgail18:amd64.\n",
            "Preparing to unpack .../2-libgail18_2.24.33-2ubuntu2.1_amd64.deb ...\n",
            "Unpacking libgail18:amd64 (2.24.33-2ubuntu2.1) ...\n",
            "Selecting previously unselected package libgail-common:amd64.\n",
            "Preparing to unpack .../3-libgail-common_2.24.33-2ubuntu2.1_amd64.deb ...\n",
            "Unpacking libgail-common:amd64 (2.24.33-2ubuntu2.1) ...\n",
            "Selecting previously unselected package libxdot4:amd64.\n",
            "Preparing to unpack .../4-libxdot4_2.42.2-6ubuntu0.1_amd64.deb ...\n",
            "Unpacking libxdot4:amd64 (2.42.2-6ubuntu0.1) ...\n",
            "Selecting previously unselected package libgvc6-plugins-gtk.\n",
            "Preparing to unpack .../5-libgvc6-plugins-gtk_2.42.2-6ubuntu0.1_amd64.deb ...\n",
            "Unpacking libgvc6-plugins-gtk (2.42.2-6ubuntu0.1) ...\n",
            "Selecting previously unselected package libgraphviz-dev:amd64.\n",
            "Preparing to unpack .../6-libgraphviz-dev_2.42.2-6ubuntu0.1_amd64.deb ...\n",
            "Unpacking libgraphviz-dev:amd64 (2.42.2-6ubuntu0.1) ...\n",
            "Selecting previously unselected package libgtk2.0-bin.\n",
            "Preparing to unpack .../7-libgtk2.0-bin_2.24.33-2ubuntu2.1_amd64.deb ...\n",
            "Unpacking libgtk2.0-bin (2.24.33-2ubuntu2.1) ...\n",
            "Selecting previously unselected package librsvg2-common:amd64.\n",
            "Preparing to unpack .../8-librsvg2-common_2.52.5+dfsg-3ubuntu0.2_amd64.deb ...\n",
            "Unpacking librsvg2-common:amd64 (2.52.5+dfsg-3ubuntu0.2) ...\n",
            "Setting up libxdot4:amd64 (2.42.2-6ubuntu0.1) ...\n",
            "Setting up librsvg2-common:amd64 (2.52.5+dfsg-3ubuntu0.2) ...\n",
            "Setting up libgtk2.0-common (2.24.33-2ubuntu2.1) ...\n",
            "Setting up libgtk2.0-0:amd64 (2.24.33-2ubuntu2.1) ...\n",
            "Setting up libgvc6-plugins-gtk (2.42.2-6ubuntu0.1) ...\n",
            "Setting up libgail18:amd64 (2.24.33-2ubuntu2.1) ...\n",
            "Setting up libgtk2.0-bin (2.24.33-2ubuntu2.1) ...\n",
            "Setting up libgail-common:amd64 (2.24.33-2ubuntu2.1) ...\n",
            "Setting up libgraphviz-dev:amd64 (2.42.2-6ubuntu0.1) ...\n",
            "Processing triggers for libc-bin (2.35-0ubuntu3.8) ...\n",
            "/sbin/ldconfig.real: /usr/local/lib/libtbbbind_2_5.so.3 is not a symbolic link\n",
            "\n",
            "/sbin/ldconfig.real: /usr/local/lib/libtbbmalloc.so.2 is not a symbolic link\n",
            "\n",
            "/sbin/ldconfig.real: /usr/local/lib/libtbbbind_2_0.so.3 is not a symbolic link\n",
            "\n",
            "/sbin/ldconfig.real: /usr/local/lib/libhwloc.so.15 is not a symbolic link\n",
            "\n",
            "/sbin/ldconfig.real: /usr/local/lib/libtbbbind.so.3 is not a symbolic link\n",
            "\n",
            "/sbin/ldconfig.real: /usr/local/lib/libtcm.so.1 is not a symbolic link\n",
            "\n",
            "/sbin/ldconfig.real: /usr/local/lib/libtbbmalloc_proxy.so.2 is not a symbolic link\n",
            "\n",
            "/sbin/ldconfig.real: /usr/local/lib/libumf.so.0 is not a symbolic link\n",
            "\n",
            "/sbin/ldconfig.real: /usr/local/lib/libur_loader.so.0 is not a symbolic link\n",
            "\n",
            "/sbin/ldconfig.real: /usr/local/lib/libtbb.so.12 is not a symbolic link\n",
            "\n",
            "/sbin/ldconfig.real: /usr/local/lib/libtcm_debug.so.1 is not a symbolic link\n",
            "\n",
            "/sbin/ldconfig.real: /usr/local/lib/libur_adapter_level_zero.so.0 is not a symbolic link\n",
            "\n",
            "/sbin/ldconfig.real: /usr/local/lib/libur_adapter_opencl.so.0 is not a symbolic link\n",
            "\n",
            "Processing triggers for man-db (2.10.2-1) ...\n",
            "Processing triggers for libgdk-pixbuf-2.0-0:amd64 (2.42.8+dfsg-1ubuntu0.3) ...\n",
            "\u001b[2K     \u001b[90m━━━━━━━━━━━━━━━━━━━━━━━━━━━━━━━━━━━━━━━━\u001b[0m \u001b[32m106.0/106.0 kB\u001b[0m \u001b[31m2.9 MB/s\u001b[0m eta \u001b[36m0:00:00\u001b[0m\n",
            "\u001b[?25h  Installing build dependencies ... \u001b[?25l\u001b[?25hdone\n",
            "  Getting requirements to build wheel ... \u001b[?25l\u001b[?25hdone\n",
            "  Preparing metadata (pyproject.toml) ... \u001b[?25l\u001b[?25hdone\n",
            "  Building wheel for pygraphviz (pyproject.toml) ... \u001b[?25l\u001b[?25hdone\n"
          ]
        }
      ],
      "source": [
        "# install required modules\n",
        "#%%capture --no-stderr\n",
        "%pip install langchain_openai langchain_core langgraph\n",
        "!pip install -q langgraph.checkpoint\n",
        "!pip install -q langgraph.checkpoint.sqlite\n",
        "!pip install -q load_dotenv\n",
        "!sudo apt-get install graphviz graphviz-dev\n",
        "!pip install -q pygraphviz\n",
        "!pip install -q langchain-chroma\n",
        "!pip install -q langchain-community"
      ]
    },
    {
      "cell_type": "code",
      "execution_count": null,
      "id": "d0168aee-bce9-4d60-b827-f86a88187e31",
      "metadata": {
        "height": 149,
        "id": "d0168aee-bce9-4d60-b827-f86a88187e31",
        "colab": {
          "base_uri": "https://localhost:8080/"
        },
        "outputId": "910fdb9b-9782-4456-d9d1-1d2da11c9323"
      },
      "outputs": [
        {
          "output_type": "stream",
          "name": "stdout",
          "text": [
            "None\n"
          ]
        }
      ],
      "source": [
        "from langgraph.graph import StateGraph, START, END\n",
        "from langgraph.graph import MessagesState\n",
        "from typing import TypedDict, Annotated, List, Optional\n",
        "import json\n",
        "import operator\n",
        "from langgraph.checkpoint.sqlite import SqliteSaver\n",
        "from langchain_core.messages import AnyMessage, SystemMessage, HumanMessage, AIMessage, ChatMessage\n",
        "from dotenv import load_dotenv\n",
        "import os\n",
        "from IPython.display import Image, display\n",
        "\n",
        "from langchain.tools import BaseTool, StructuredTool, tool\n",
        "from langgraph.prebuilt import ToolNode\n",
        "from langgraph.prebuilt import tools_condition\n",
        "\n",
        "_ = load_dotenv()\n",
        "api_key = os.environ.get(\"OPENAI_API_KEY\")\n",
        "print(api_key)\n",
        "\n",
        "\n",
        "#memory = SqliteSaver.from_conn_string(\":memory:\")"
      ]
    },
    {
      "cell_type": "code",
      "execution_count": null,
      "id": "2589c5b6-6cc2-4594-9a17-dccdcf676054",
      "metadata": {
        "height": 149,
        "id": "2589c5b6-6cc2-4594-9a17-dccdcf676054",
        "colab": {
          "base_uri": "https://localhost:8080/",
          "height": 151
        },
        "outputId": "2d262f26-ea32-44c0-dd73-9352c00420a8"
      },
      "outputs": [
        {
          "output_type": "display_data",
          "data": {
            "image/png": "[encoded data removed]",
            "text/plain": [
              "<IPython.core.display.Image object>"
            ]
          },
          "metadata": {}
        }
      ],
      "source": [
        "class AgentState(TypedDict):\n",
        "  \"\"\"\n",
        "  The shared states of the agents and tools.\n",
        "  \"\"\"\n",
        "  task: str\n",
        "  plan: str\n",
        "  investigate: str\n",
        "  incident_id: str\n",
        "  incident_description: str\n",
        "  incident_app_name: str\n",
        "  service_map: str #topology\n",
        "\n",
        "  #content: List[str]\n",
        "  content: Annotated[list, operator.add]\n",
        "  hypothesis: int\n",
        "  hypothesis_description: str\n",
        "\n",
        "  current_task: str\n",
        "\n",
        "  selected_apitool: Optional[str]\n",
        "  apitool_input: str\n",
        "  apitool_output: str\n",
        "  thought : str\n",
        "  status: str\n",
        "\n",
        "  iteration_number: int\n",
        "  max_iterations: int\n",
        "  ai_response: str\n",
        "  human_reviewed_response: str\n",
        "\n",
        "def dummy_node(state: AgentState) -> AgentState:\n",
        "  return state\n",
        "\n",
        "tbuilder = StateGraph(AgentState)\n",
        "tbuilder.add_node(\"dummy\",dummy_node)\n",
        "tbuilder.set_entry_point(\"dummy\")\n",
        "\n",
        "testgraph = tbuilder.compile()\n",
        "\n",
        "display(Image(testgraph.get_graph().draw_mermaid_png()))"
      ]
    },
    {
      "cell_type": "code",
      "execution_count": null,
      "id": "a2ba84ec-c172-4de7-ac55-e3158a531b23",
      "metadata": {
        "height": 47,
        "id": "a2ba84ec-c172-4de7-ac55-e3158a531b23",
        "colab": {
          "base_uri": "https://localhost:8080/",
          "height": 211
        },
        "collapsed": true,
        "outputId": "18a732b0-ea25-47ed-f10a-c49d49adbb2a"
      },
      "outputs": [
        {
          "output_type": "error",
          "ename": "NameError",
          "evalue": "name 'deepseek_model' is not defined",
          "traceback": [
            "\u001b[0;31m---------------------------------------------------------------------------\u001b[0m",
            "\u001b[0;31mNameError\u001b[0m                                 Traceback (most recent call last)",
            "\u001b[0;32m<ipython-input-4-47c93f42e228>\u001b[0m in \u001b[0;36m<cell line: 0>\u001b[0;34m()\u001b[0m\n\u001b[1;32m      3\u001b[0m \u001b[0;34m\u001b[0m\u001b[0m\n\u001b[1;32m      4\u001b[0m \u001b[0;31m#comment the following to use the OpenAI gpt-xxx  model\u001b[0m\u001b[0;34m\u001b[0m\u001b[0;34m\u001b[0m\u001b[0m\n\u001b[0;32m----> 5\u001b[0;31m \u001b[0mmodel\u001b[0m \u001b[0;34m=\u001b[0m \u001b[0mdeepseek_model\u001b[0m\u001b[0;34m\u001b[0m\u001b[0;34m\u001b[0m\u001b[0m\n\u001b[0m\u001b[1;32m      6\u001b[0m \u001b[0;34m\u001b[0m\u001b[0m\n\u001b[1;32m      7\u001b[0m \u001b[0;31m#test the model\u001b[0m\u001b[0;34m\u001b[0m\u001b[0;34m\u001b[0m\u001b[0m\n",
            "\u001b[0;31mNameError\u001b[0m: name 'deepseek_model' is not defined"
          ]
        }
      ],
      "source": [
        "from langchain_openai import ChatOpenAI\n",
        "from google.colab import userdata\n",
        "\n",
        "os.environ[\"OPENAI_API_KEY\"] = userdata.get('OPENAI_API_KEY')\n",
        "\n",
        "model = ChatOpenAI(model=\"gpt-3.5-turbo\", temperature=0)\n",
        "\n",
        "#comment the following to use the OpenAI gpt-xxx  model\n",
        "model = qwq_model\n",
        "\n",
        "#test the model\n",
        "messages = [\n",
        "    SystemMessage(content=\"you are a math teacher\"),\n",
        "    HumanMessage(content=\"what is 7x8-3+5?\")\n",
        "]\n",
        "response = model.invoke(messages)\n",
        "print(response)"
      ]
    },
    {
      "cell_type": "code",
      "execution_count": null,
      "id": "dc3293b7-a50c-43c8-a022-8975e1e444b8",
      "metadata": {
        "height": 81,
        "id": "dc3293b7-a50c-43c8-a022-8975e1e444b8",
        "colab": {
          "base_uri": "https://localhost:8080/"
        },
        "outputId": "0ec915f7-16d0-4c0e-cffe-fb95ccf51777",
        "collapsed": true
      },
      "outputs": [
        {
          "output_type": "stream",
          "name": "stderr",
          "text": [
            "/usr/local/lib/python3.11/dist-packages/IPython/core/interactiveshell.py:3553: LangChainDeprecationWarning: As of langchain-core 0.3.0, LangChain uses pydantic v2 internally. The langchain_core.pydantic_v1 module was a compatibility shim for pydantic v1, and should no longer be used. Please update the code to import from Pydantic directly.\n",
            "\n",
            "For example, replace imports like: `from langchain_core.pydantic_v1 import BaseModel`\n",
            "with: `from pydantic import BaseModel`\n",
            "or the v1 compatibility namespace if you are working in a code base that has not been fully upgraded to pydantic 2 yet. \tfrom pydantic.v1 import BaseModel\n",
            "\n",
            "  exec(code_obj, self.user_global_ns, self.user_ns)\n"
          ]
        }
      ],
      "source": [
        "from langchain_core.pydantic_v1 import BaseModel\n",
        "\n",
        "class Queries(BaseModel):\n",
        "    queries: List[str]"
      ]
    },
    {
      "cell_type": "code",
      "source": [
        "\"\"\"\n",
        "!!!run this block ONLY when need to refresh the Choma vector db\n",
        "copy the .txt files to google drive's MyDrive/sumo_kb directory\n",
        "\"\"\"\n",
        "\n",
        "from langchain_community.document_loaders import TextLoader,DirectoryLoader\n",
        "from langchain_openai import OpenAIEmbeddings\n",
        "from langchain.embeddings import HuggingFaceEmbeddings\n",
        "from langchain_text_splitters import CharacterTextSplitter\n",
        "from langchain_chroma import Chroma\n",
        "from google.colab import drive\n",
        "\n",
        "#uncomment this when mounting the google drive to Colab for the first time\n",
        "drive.mount('/content/gdrive')\n",
        "\n",
        "loader = DirectoryLoader(\"/content/gdrive/MyDrive/sumo_kb/\",  glob=\"**/*.txt\", show_progress=True, loader_cls=TextLoader)\n",
        "raw_documents = loader.load()\n",
        "text_splitter = CharacterTextSplitter(separator=\"\\n\",chunk_size=1000, chunk_overlap=0)\n",
        "documents = text_splitter.split_documents(raw_documents)\n",
        "morethan3words = [x for x in documents if (len(x.page_content) > 3 and not(x.page_content.startswith(\"URL:\")) ) ]\n",
        "db = Chroma.from_documents(morethan3words,HuggingFaceEmbeddings())\n"
      ],
      "metadata": {
        "id": "_Zmf213AvWwX"
      },
      "id": "_Zmf213AvWwX",
      "execution_count": null,
      "outputs": []
    },
    {
      "cell_type": "code",
      "source": [
        "#vector db test code\n",
        "query = \"aws related incidents\"\n",
        "docs = db.similarity_search(query,k=5)\n",
        "print(docs[0].page_content)"
      ],
      "metadata": {
        "id": "1sfaZs094UDs"
      },
      "id": "1sfaZs094UDs",
      "execution_count": null,
      "outputs": []
    },
    {
      "cell_type": "code",
      "source": [
        "#wrappers for sumo api calls\n",
        "\n",
        "import requests\n",
        "\n",
        "def get_service_map(apitool_input: str) -> str:\n",
        "    #calling Sumo serviceMap API\n",
        "    access_id = userdata.get('SUMO_ACCESS_ID')\n",
        "    access_key = userdata.get('SUMO_ACCESS_KEY')\n",
        "    url = \"https://api.sumologic.com/api/v1/tracing/serviceMap\"\n",
        "\n",
        "    response = requests.get(url, auth=(access_id, access_key))\n",
        "\n",
        "    if response.status_code == 200:\n",
        "      print(\"Request successful!\")\n",
        "      print(response.text)\n",
        "      return response.text\n",
        "    else:\n",
        "      print(f\"Request failed with status code: {response.status_code}\")\n",
        "      return \"__service_map_api_call_failed__\"\n",
        "\n",
        "def get_configuration_changes(apitool_input: str) -> str:\n",
        "    #calling Sumo configuration change API\n",
        "    return \"configuration changes\"\n",
        "\n",
        "def query_logs(apitool_input: str) -> str:\n",
        "    #calling Sumo query logs API\n",
        "    return \"log files\"\n",
        "\n",
        "def query_metrics(apitool_input: str) -> str:\n",
        "    #calling Sumo query metrics API\n",
        "    return \"metrics\"\n",
        "\n",
        "def query_traces(apitool_input: str) -> str:\n",
        "    #calling Sumo query traces API\n",
        "    return \"traces\"\n",
        "\n",
        "\n",
        "#api tools\n",
        "class ApiTool(BaseTool):\n",
        "    name: str\n",
        "    description: str\n",
        "    func: callable\n",
        "    def _run(self, apitool_input: str):  # Implement the abstract _run method\n",
        "      return self.func(apitool_input)\n",
        "\n",
        "api_tools = [\n",
        "    ApiTool(\n",
        "        name=\"get_service_map\",\n",
        "        description=\"retrieve application service dependency map\",\n",
        "        func=get_service_map(\"\")\n",
        "    ),\n",
        "    ApiTool(\n",
        "        name=\"get_configuration_changes\",\n",
        "        description=\"retrieve configuration changes for an application service \",\n",
        "        func=get_configuration_changes(\"\")\n",
        "    ),\n",
        "    ApiTool(\n",
        "        name=\"query_logs\",\n",
        "        description=\"query logs for an application service \",\n",
        "        func=query_logs(\"\")\n",
        "    ),\n",
        "    ApiTool(\n",
        "        name=\"query_metrics\",\n",
        "        description=\"query metrics for an application service \",\n",
        "        func=query_metrics(\"\")\n",
        "    ),\n",
        "    ApiTool(\n",
        "        name=\"query_traces\",\n",
        "        description=\"query traces for an application service \",\n",
        "        func=query_traces(\"\")\n",
        "    ),\n",
        "\n",
        "]\n",
        "\n",
        "\n",
        "\n",
        "def sumo_api_call(state: AgentState) -> AgentState:\n",
        "    \"\"\"Place calls to Sumo Logic APIs endpoints,e.g.\n",
        "    - get service map, ie. dependency topology\n",
        "    - get configuration change history - api exists?\n",
        "    - get log search query\n",
        "    - query metrics\n",
        "    - etc...\n",
        "    still to be implemented.\n",
        "    might need to be implmemented as multiple tool nodes\n",
        "    \"\"\"\n",
        "\n",
        "    tool = next((t for t in api_tools if t.name == state.selected_apitool), None)\n",
        "    if not tool:\n",
        "        return AgentState(\n",
        "            status=\"ERROR\",\n",
        "            thought=\"Selected Sumo API tool not found\"\n",
        "        )\n",
        "    try:\n",
        "        result = tool.func.invoke(state.apitool_input)\n",
        "        #result = await tool.func.ainvoke(state.apitool_input)\n",
        "        return AgentState(\n",
        "            apitool_output=str(result),\n",
        "            status=f\"{{'api_name':{t.name}, 'api_input':{state.apitool_input} }}\"\n",
        "        )\n",
        "    except Exception as e:\n",
        "        return AgentState(\n",
        "            status=\"ERROR\",\n",
        "            apitool_output=str(e),\n",
        "            thought=f\"Sumo API tool execution failed: {str(e)}\"\n",
        "        )\n",
        "\n"
      ],
      "metadata": {
        "id": "787pCfKfXXWA",
        "colab": {
          "base_uri": "https://localhost:8080/"
        },
        "outputId": "9f51419f-afae-48fb-ef6f-2898aa562a4d",
        "collapsed": true
      },
      "id": "787pCfKfXXWA",
      "execution_count": null,
      "outputs": [
        {
          "output_type": "stream",
          "name": "stdout",
          "text": [
            "Request failed with status code: 401\n"
          ]
        },
        {
          "output_type": "stream",
          "name": "stderr",
          "text": [
            "/usr/local/lib/python3.11/dist-packages/pydantic/_internal/_generate_schema.py:502: UserWarning: <built-in function callable> is not a Python type (it may be an instance of an object), Pydantic will allow any object with no validation since we cannot even enforce that the input is an instance of the given type. To get rid of this error wrap the type with `pydantic.SkipValidation`.\n",
            "  warn(\n"
          ]
        }
      ]
    },
    {
      "cell_type": "code",
      "source": [
        "def get_past_incidents(incident_desc:str)->str:\n",
        "  query = incident_desc\n",
        "  docs = db.similarity_search(query,k=10)\n",
        "  past_incidents = ''\n",
        "  ii = 1\n",
        "  for doc in docs:\n",
        "    past_incidents += str(ii)+\"-\"+doc.page_content + \"\\n\"\n",
        "    ii += 1\n",
        "  print(past_incidents)\n",
        "  return past_incidents\n",
        "\n",
        "def get_incident_app_name(incident_id:str)->str:\n",
        "  return \"__ dummy app name __\""
      ],
      "metadata": {
        "id": "KubGRQoOOdt4"
      },
      "id": "KubGRQoOOdt4",
      "execution_count": null,
      "outputs": []
    },
    {
      "cell_type": "code",
      "execution_count": null,
      "id": "6b2f82fe-3ec4-4917-be51-9fb10d1317fa",
      "metadata": {
        "height": 132,
        "id": "6b2f82fe-3ec4-4917-be51-9fb10d1317fa"
      },
      "outputs": [],
      "source": [
        "#plan & hypothesize\n",
        "def plan_hypothesize_node(state: AgentState):\n",
        "    #\n",
        "    # 1. call to knowlege base (GrapshRAG)\n",
        "    # 2. provide more contexts -> SystemMessage\n",
        "    #\n",
        "    incident_app_name = get_incident_app_name(state[\"incident_id\"])\n",
        "    past_incidents = get_past_incidents(state[\"incident_description\"])\n",
        "\n",
        "    plan_context = f\"\"\"Your are a virtual SRE or OCE, tasked with\n",
        "    investigating and remediating the incident{state[\"incident_description\"]} reported in the Sumo logic ticket system\n",
        "    with the historical incident report as in {past_incidents}\n",
        "    \"\"\"\n",
        "    prompt = state['task'] + \"\"\"\n",
        "      Return your suggestion in the following JSON format (no extra text):\n",
        "\n",
        "      {{\n",
        "        \"plan\": \"Your triage,investigate,mitigate plan here\",\n",
        "        \"hypothesis\": \"your hypothesises of what could have cause the problem here, if there are multiple, please number them\",\n",
        "      }}\n",
        "\n",
        "      Make sure the output is valid JSON.\n",
        "    \"\"\"\n",
        "\n",
        "    messages = [\n",
        "        SystemMessage(content=plan_context),\n",
        "        HumanMessage(content=prompt)\n",
        "    ]\n",
        "    response = model.invoke(messages)\n",
        "    result = json.loads(response)\n",
        "    print(result)\n",
        "\n",
        "    return AgentState(\n",
        "        incident_app_name=incident_app_name,\n",
        "        content=result[\"content\"],\n",
        "        plan=result[\"plan\"],\n",
        "        hypothesis_description=result[\"hypothesis\"],\n",
        "        current_task=\"plan_hypothesize\",\n",
        "        selected_apitool=\"get_service_map\",\n",
        "        apitool_input=incident_app_name,\n",
        "        iteration_number=state[\"iteration_number\"] + 1,\n",
        "        ai_response=response.content\n",
        "    )"
      ]
    },
    {
      "cell_type": "code",
      "source": [
        "def human_review_node(state: AgentState) -> AgentState:\n",
        "    \"\"\"\n",
        "    SREs or OCEs review the following depending on the current task\n",
        "    - hypothesis and dependency topology before finalization.\n",
        "    - investigation results\n",
        "    and decide the next steps\n",
        "    \"\"\"\n",
        "    #print(graph.get_state({\"configurable\": {\"thread_id\": \"1\"}}))\n",
        "    if (state[\"ai_response\"]) :\n",
        "        print(f\"System Response: {state['ai_response']}\") #saved responses from previous step\n",
        "\n",
        "    #process\n",
        "    if (state[\"current_task\"]) == \"plan_hypothesize\":\n",
        "        print(\"reviewing plan_hypothesize\")\n",
        "        ai_plan = state[\"plan\"]\n",
        "        print(ai_plan)\n",
        "        ai_hypothesis = state[\"hypothesis_description\"]\n",
        "        print(ai_hypothesis)\n",
        "        app_name = state[\"incident_app_name\"]\n",
        "        print(app_name)\n",
        "\n",
        "        if (state[\"status\"]!= \"ERROR\") :\n",
        "          api_out = json.loads(state[\"apitool_output\"])\n",
        "          state[\"service_map\"] = api_out\n",
        "        if (api_out[\"api_name\"] == \"get_service_map\"):\n",
        "            print(f\"here is the service_map for {app_name}\"+api_out)\n",
        "        human_input = input(\"Approve? (yes/no/edit): \")  # SRE confirmation\n",
        "\n",
        "        if human_input.lower() == \"yes\":\n",
        "          state[\"current_task\"] = \"investigate_topology\"\n",
        "          state[\"investigate\"] = f\"investigate services topology for {app_name}\"\n",
        "          return state\n",
        "    #config change tool call (get_configuration_changes()) returned\n",
        "    elif (state[\"current_task\"]) == \"investigate_configuration_change\":\n",
        "        print(\"investigate_configuration_change\")\n",
        "\n",
        "\n",
        "    human_input = input(\"Approve? (yes/no/edit): \")  # Human validation\n",
        "    if human_input.lower() == \"yes\":\n",
        "        state.human_reviewed_response = state.ai_response\n",
        "    elif human_input.lower() == \"edit\":\n",
        "        state.human_reviewed_response = input(\"Enter corrected response: \")\n",
        "    else:\n",
        "        state.human_reviewed_response = \"Human rejected the AI response.\"\n",
        "    return state"
      ],
      "metadata": {
        "id": "b9PEEOW89DpE"
      },
      "id": "b9PEEOW89DpE",
      "execution_count": null,
      "outputs": []
    },
    {
      "cell_type": "code",
      "execution_count": null,
      "id": "ee0fe1c7-77e2-499c-a2f9-1f739bb6ddf0",
      "metadata": {
        "height": 200,
        "id": "ee0fe1c7-77e2-499c-a2f9-1f739bb6ddf0"
      },
      "outputs": [],
      "source": [
        "def investigate_topo_node(state: AgentState):\n",
        "    #\n",
        "    # 1. ?? call to knowlege base (GrapshRAG)\n",
        "    # 2. provide more contexts, what more context could we add here?  e.g. summarized logs?\n",
        "    #\n",
        "\n",
        "    investigate_context = f\"\"\"Your are a virtual SRE or OCE, tasked with\n",
        "investigating and remediating the incident{state[\"incident_description\"]} reported in the Sumo logic ticket system,\n",
        "the possible reasons for this incident are  {state['hypothesis_description']}\n",
        "\n",
        "    \"\"\"\n",
        "    prompt = state['investigate'] + \"\"\"\n",
        "    , Triage the situation and identify the most probable reason among the following 5 hypothesises:\n",
        "    1. changes in configuration were made in some components in the service map，e.g. new software version, new configuration, etc.\n",
        "    2. external factors changed, e.g. user visits volume\n",
        "    3. resource limit reached for the components in the service map\n",
        "    4. services hang\n",
        "    5. services components failed\n",
        "\n",
        "    Return your suggestion in the following JSON format (no extra text):\n",
        "\n",
        "    {{\n",
        "        \"hyphthesis_id\": \"the sequence number of the most probable hypothesis\",\n",
        "        \"suggested tools\": \"your suggestion of the tools to use for further investigation\",\n",
        "    }}\n",
        "\n",
        "      Make sure the output is valid JSON.\n",
        "\n",
        "    \"\"\"\n",
        "\n",
        "    messages = [\n",
        "        SystemMessage(content=investigate_context),\n",
        "        HumanMessage(content=prompt)\n",
        "    ]\n",
        "\n",
        "    response = model.invoke(messages)\n",
        "    result = json.loads(response)\n",
        "    print(result)\n",
        "\n",
        "    return AgentState(\n",
        "        incident_app_name=incident_app_name,\n",
        "        content=result[\"content\"],\n",
        "        hypothesis=result[\"hypothesis_id\"],\n",
        "        current_task=\"confirm_hypothesis\",\n",
        "        iteration_number=state[\"iteration_number\"] + 1,\n",
        "        ai_response=response.content\n",
        "    )"
      ]
    },
    {
      "cell_type": "code",
      "execution_count": null,
      "id": "98f303b1-a4d0-408c-8cc0-515ff980717f",
      "metadata": {
        "height": 285,
        "id": "98f303b1-a4d0-408c-8cc0-515ff980717f"
      },
      "outputs": [],
      "source": [
        "def config_change_node(state: AgentState):\n",
        "    #\n",
        "    # 1. query knowlege base (GrapshRAG) to retrieve best practices for investigating problems caused by configuration changes\n",
        "    # 2. provide more contexts -> SystemMessage\n",
        "    #\n",
        "    best_practices = query_KB_direct(\"best practices for investigating problems caused by configuration changes\")\n",
        "\n",
        "    config_change_context = f\"\"\"Your are a virtual SRE or OCE, tasked with\n",
        "    investigating and remediating the incident{state[\"incident_description\"]} reported in the Sumo logic ticket system,\n",
        "    Now we know it's highly probable that configure changes might have cause the problem.\n",
        "    and Here are the best practices for investigating problems caused by configuration changes - {best_practices}\n",
        "    \"\"\"\n",
        "    prompt = f\"\"\"\n",
        "\n",
        "    Review the {state['service_map']} and {state['incident_description']}, recommend a list of service components to be investigated for configuration changes.\n",
        "\n",
        "      Return your suggestion in the following JSON format (no extra text):\n",
        "\n",
        "      {{\n",
        "        \"component_list\": \"a list of service component to be investigated for configuration changes\",\n",
        "      }}\n",
        "\n",
        "      Make sure the output is valid JSON.\n",
        "    \"\"\"\n",
        "\n",
        "    messages = [\n",
        "        SystemMessage(content=config_change_context),\n",
        "        HumanMessage(content=prompt)\n",
        "    ]\n",
        "    response = model.invoke(messages)\n",
        "    result = json.loads(response)\n",
        "    print(result)\n",
        "\n",
        "    return AgentState(\n",
        "        incident_app_name=incident_app_name,\n",
        "        content=result[\"content\"],\n",
        "        current_task=\"investigate_configuration_change\",\n",
        "        selected_apitool=\"get_configuration_changes\",\n",
        "        apitool_input=result['component_list'],\n",
        "        iteration_number=state[\"iteration_number\"] + 1,\n",
        "        ai_response=response.content\n",
        "    )\n",
        "\n"
      ]
    },
    {
      "cell_type": "code",
      "execution_count": null,
      "id": "bf4dcb93-6298-4cfd-b3ce-61dfac7fb35f",
      "metadata": {
        "height": 132,
        "id": "bf4dcb93-6298-4cfd-b3ce-61dfac7fb35f"
      },
      "outputs": [],
      "source": [
        "def external_change_node(state: AgentState):\n",
        "    messages = [\n",
        "        SystemMessage(content=HYPTHESIS_PROMPT),\n",
        "        HumanMessage(content=state['task'])\n",
        "    ]\n",
        "    response = model.invoke(messages)\n",
        "    return {\"ext_change\": response.content}"
      ]
    },
    {
      "cell_type": "code",
      "source": [
        "def resource_limit_node(state: AgentState):\n",
        "    #\n",
        "    # 1. call to metrics tool and check if any resources are about to reach limit\n",
        "    #\n",
        "\n",
        "    queries = model.with_structured_output(Queries).invoke([\n",
        "        SystemMessage(content=HYPTHESIS_PROMPT),\n",
        "        HumanMessage(content=state['task'])\n",
        "    ])\n",
        "    content = state['content'] or []\n",
        "    return {\"content\": content}"
      ],
      "metadata": {
        "id": "BtOVLcsRRZoo"
      },
      "id": "BtOVLcsRRZoo",
      "execution_count": null,
      "outputs": []
    },
    {
      "cell_type": "code",
      "source": [
        "def service_hang_node(state: AgentState):\n",
        "    #\n",
        "    # 1. call to log summariztion or reduce tool and check if any service is in hang state\n",
        "    #\n",
        "\n",
        "    queries = model.with_structured_output(Queries).invoke([\n",
        "        SystemMessage(content=HYPTHESIS_PROMPT),\n",
        "        HumanMessage(content=state['task'])\n",
        "    ])\n",
        "    content = state['content'] or []\n",
        "    return {\"content\": content}"
      ],
      "metadata": {
        "id": "riVi05hYRZU4"
      },
      "id": "riVi05hYRZU4",
      "execution_count": null,
      "outputs": []
    },
    {
      "cell_type": "code",
      "execution_count": null,
      "id": "932883a4-c722-42bb-aec0-b4f41c5c81a4",
      "metadata": {
        "height": 200,
        "id": "932883a4-c722-42bb-aec0-b4f41c5c81a4"
      },
      "outputs": [],
      "source": [
        "def component_failure_node(state: AgentState):\n",
        "    #\n",
        "    # 1. call to log summariztion or reduce tool and check if any components or depended components failed\n",
        "    #\n",
        "\n",
        "    queries = model.with_structured_output(Queries).invoke([\n",
        "        SystemMessage(content=HYPTHESIS_PROMPT),\n",
        "        HumanMessage(content=state['task'])\n",
        "    ])\n",
        "    content = state['content'] or []\n",
        "    return {\"content\": content}"
      ]
    },
    {
      "cell_type": "code",
      "source": [
        "def remediation_node(state: AgentState):\n",
        "    #\n",
        "    # 1. execute remediation actions\n",
        "    #\n",
        "\n",
        "    queries = model.with_structured_output(Queries).invoke([\n",
        "        SystemMessage(content=HYPTHESIS_PROMPT),\n",
        "        HumanMessage(content=state['task'])\n",
        "    ])\n",
        "    content = state['content'] or []\n",
        "    return {\"content\": content}"
      ],
      "metadata": {
        "id": "uiafImGFSP7Z"
      },
      "id": "uiafImGFSP7Z",
      "execution_count": null,
      "outputs": []
    },
    {
      "cell_type": "code",
      "source": [
        "# tools\n",
        "def query_KB_direct(query : str) -> str :\n",
        "    #query knowledge base directly\n",
        "    # to be implemented\n",
        "    return \"\"\n",
        "\n",
        "\n",
        "def query_knowledge_base(state: AgentState) -> AgentState:\n",
        "    \"\"\"Query the knowledge base implemented as a GraphRAG,  possibly retrieve  :\n",
        "    - similar incident's investigation log\n",
        "    - past incident analysis\n",
        "    - suggested remediation actions that maps to the root causeidentified\n",
        "    - etc...\n",
        "    still to be implemented.\n",
        "    \"\"\"\n",
        "\n",
        "    kb_entries =  query_KB_direct('find sth??')\n",
        "    content = state['content'] or []\n",
        "    return {\"content\": content}\n",
        "\n",
        "def log_summarization(state: AgentState) -> AgentState:\n",
        "    \"\"\"Summarize the log with a different specialized LLM, e.g. fine tuned Bert :\n",
        "    - ? can use Sumo's LogReduce?.\n",
        "    still to be implemented.\n",
        "    \"\"\"\n",
        "    content = state['content'] or []\n",
        "    return {\"content\": content}"
      ],
      "metadata": {
        "id": "T0R0zO2jmuvB"
      },
      "id": "T0R0zO2jmuvB",
      "execution_count": null,
      "outputs": []
    },
    {
      "cell_type": "code",
      "execution_count": null,
      "id": "ff362f49-dcf1-4ea1-a86c-e516e9ab897d",
      "metadata": {
        "height": 81,
        "id": "ff362f49-dcf1-4ea1-a86c-e516e9ab897d"
      },
      "outputs": [],
      "source": [
        "def should_continue(state):\n",
        "    if state[\"iteration_number\"] > state[\"max_interations\"]:\n",
        "        return END\n",
        "    if state[\"hypothesis\"] == 1 :\n",
        "      return \"changed sth?\"\n",
        "    if state[\"hypothesis\"] == 2 :\n",
        "      return \"external changes?\"\n",
        "    if state[\"hypothesis\"] == 3 :\n",
        "      return \"resource reach limit?\"\n",
        "    if state[\"hypothesis\"] == 4 :\n",
        "      return \"service hang?\"\n",
        "    if state[\"hypothesis\"] == 5 :\n",
        "      return \"component failed?\"\n",
        "    return END"
      ]
    },
    {
      "cell_type": "code",
      "execution_count": null,
      "id": "a7e15a20-83d7-434c-8551-bce8dcc32be0",
      "metadata": {
        "height": 30,
        "id": "a7e15a20-83d7-434c-8551-bce8dcc32be0"
      },
      "outputs": [],
      "source": [
        "builder = StateGraph(AgentState)"
      ]
    },
    {
      "cell_type": "code",
      "execution_count": null,
      "id": "54ab2c74-f32e-490c-a85d-932d11444210",
      "metadata": {
        "height": 98,
        "colab": {
          "base_uri": "https://localhost:8080/"
        },
        "id": "54ab2c74-f32e-490c-a85d-932d11444210",
        "outputId": "8a7ee505-8150-405c-d37f-46b039c4bccb"
      },
      "outputs": [
        {
          "output_type": "execute_result",
          "data": {
            "text/plain": [
              "<langgraph.graph.state.StateGraph at 0x7a9503b9fa50>"
            ]
          },
          "metadata": {},
          "execution_count": 22
        }
      ],
      "source": [
        "builder.add_node(\"plan_hypothesize\", plan_hypothesize_node)\n",
        "builder.add_node(\"investigate topology\", investigate_topo_node)\n",
        "builder.add_node(\"changed sth?\", config_change_node)\n",
        "builder.add_node(\"external changes?\", external_change_node)\n",
        "builder.add_node(\"resource reach limit?\", resource_limit_node)\n",
        "builder.add_node(\"service hang?\", service_hang_node)\n",
        "builder.add_node(\"component failed?\", component_failure_node)\n",
        "builder.add_node(\"remediate\", remediation_node)\n",
        "builder.add_node(\"SRE review\", human_review_node)\n",
        "builder.add_node(\"sumo api call\", sumo_api_call)\n",
        "#builder.add_node(\"query knowledge base\", query_knowledge_base)\n",
        "builder.add_node(\"log summarization\", log_summarization)"
      ]
    },
    {
      "cell_type": "code",
      "execution_count": null,
      "id": "a833d3ce-bd31-4319-811d-decff226b970",
      "metadata": {
        "height": 30,
        "colab": {
          "base_uri": "https://localhost:8080/"
        },
        "id": "a833d3ce-bd31-4319-811d-decff226b970",
        "outputId": "0426b7aa-c63f-4bc1-b508-3e9872890b38"
      },
      "outputs": [
        {
          "output_type": "execute_result",
          "data": {
            "text/plain": [
              "<langgraph.graph.state.StateGraph at 0x7a9503b9fa50>"
            ]
          },
          "metadata": {},
          "execution_count": 23
        }
      ],
      "source": [
        "builder.set_entry_point(\"plan_hypothesize\")"
      ]
    },
    {
      "cell_type": "code",
      "execution_count": null,
      "id": "76e93cce-6eab-4c7c-ac64-e9993fdb30d6",
      "metadata": {
        "height": 115,
        "colab": {
          "base_uri": "https://localhost:8080/"
        },
        "id": "76e93cce-6eab-4c7c-ac64-e9993fdb30d6",
        "outputId": "ac71af7a-cfda-4208-b753-a3cd9e9f3a96"
      },
      "outputs": [
        {
          "output_type": "execute_result",
          "data": {
            "text/plain": [
              "<langgraph.graph.state.StateGraph at 0x7a9503b9fa50>"
            ]
          },
          "metadata": {},
          "execution_count": 24
        }
      ],
      "source": [
        "builder.add_conditional_edges(\n",
        "    \"investigate topology\",\n",
        "    should_continue,\n",
        "    {END: END,\n",
        "     \"changed sth?\": \"changed sth?\",\n",
        "     \"external changes?\":\"external changes?\",\n",
        "     \"resource reach limit?\":\"resource reach limit?\",\n",
        "     \"service hang?\":\"service hang?\",\n",
        "     \"component failed?\":\"component failed?\"}\n",
        ")\n",
        "\n",
        "builder.add_edge(\"plan_hypothesize\", \"SRE review\")\n",
        "builder.add_edge(\"plan_hypothesize\", \"sumo api call\")\n",
        "\n",
        "#builder.add_edge(\"plan_hypothesize\", \"query knowledge base\")\n",
        "#builder.add_edge(\"query knowledge base\", \"SRE review\")\n",
        "builder.add_edge(\"plan_hypothesize\", \"SRE review\")\n",
        "\n",
        "builder.add_edge(\"SRE review\", \"investigate topology\")\n",
        "builder.add_edge(\"SRE review\", \"remediate\" )\n",
        "builder.add_edge(\"investigate topology\",\"sumo api call\")\n",
        "builder.add_edge(\"sumo api call\",\"SRE review\")\n",
        "builder.add_edge(\"log summarization\",\"SRE review\")\n",
        "builder.add_edge(\"changed sth?\",\"sumo api call\")\n",
        "builder.add_edge(\"external changes?\",\"log summarization\")\n",
        "builder.add_edge(\"resource reach limit?\",\"sumo api call\")\n",
        "builder.add_edge(\"component failed?\",\"sumo api call\")\n",
        "builder.add_edge(\"component failed?\",\"log summarization\")\n",
        "builder.add_edge(\"service hang?\",\"log summarization\")\n",
        "builder.add_edge(\"remediate\", END )"
      ]
    },
    {
      "cell_type": "code",
      "execution_count": null,
      "id": "27cde654-64e2-48bc-80a9-0ed668ccb7dc",
      "metadata": {
        "height": 30,
        "id": "27cde654-64e2-48bc-80a9-0ed668ccb7dc"
      },
      "outputs": [],
      "source": [
        "#with memory as m:\n",
        "#  graph = builder.compile(checkpointer=m)\n",
        "graph = builder.compile()"
      ]
    },
    {
      "cell_type": "code",
      "execution_count": null,
      "id": "4871f644-b131-4065-b7ce-b82c20a41f11",
      "metadata": {
        "height": 64,
        "colab": {
          "base_uri": "https://localhost:8080/",
          "height": 444
        },
        "id": "4871f644-b131-4065-b7ce-b82c20a41f11",
        "outputId": "29e29878-f733-49f1-8e7f-79ae555ef6d2"
      },
      "outputs": [
        {
          "output_type": "display_data",
          "data": {
            "image/png": "[encoded data removed]",
            "text/plain": [
              "<IPython.core.display.Image object>"
            ]
          },
          "metadata": {}
        }
      ],
      "source": [
        "#from IPython.display import Image\n",
        "from IPython.display import Image, display\n",
        "\n",
        "#from langchain_core.runnables.graph import CurveStyle, MermaidDrawMethod, NodeStyles\n",
        "#display(Image(graph.get_graph().draw_mermaid_png()))\n",
        "display(Image(graph.get_graph().draw_png()))"
      ]
    },
    {
      "cell_type": "code",
      "execution_count": null,
      "id": "98f3be1d-cc4c-41fa-9863-3e386e88e305",
      "metadata": {
        "height": 132,
        "id": "98f3be1d-cc4c-41fa-9863-3e386e88e305"
      },
      "outputs": [],
      "source": [
        "#Initialize the incident related data\n",
        "incident_id = \"xxx_service_001\"\n",
        "incident_description = \"xxx\"\n",
        "\n",
        "MAX_ITERATIONS = 25\n",
        "\n",
        "thread = {\"configurable\": {\"thread_id\": \"1\"}}\n",
        "for s in graph.stream({\n",
        "    'task': \"Propose a triage,investigate and mitigate/remediate plan for this incident or problem, and draw up as many as possible hypothesis on why could cause the problem\",\n",
        "    \"incident_id\": incident_id,\n",
        "    \"incident_description\": incident_description,\n",
        "    \"hypothesis\": 1,\n",
        "    \"max_iterations\": MAX_ITERATIONS,\n",
        "    \"iteration_number\": 1,\n",
        "}, thread):\n",
        "    print(s)"
      ]
    },
    {
      "cell_type": "code",
      "execution_count": null,
      "id": "0ad8a6cc-65d4-4ce7-87aa-4e67d7c23d7b",
      "metadata": {
        "height": 30,
        "id": "0ad8a6cc-65d4-4ce7-87aa-4e67d7c23d7b"
      },
      "outputs": [],
      "source": [
        "!pip install mermaid-python\n"
      ]
    },
    {
      "cell_type": "code",
      "source": [
        "!pip install grandalf\n"
      ],
      "metadata": {
        "id": "qRMId1z9gInu"
      },
      "id": "qRMId1z9gInu",
      "execution_count": null,
      "outputs": []
    },
    {
      "cell_type": "code",
      "source": [
        "from mermaid import Mermaid\n",
        "Mermaid(\"graph TB\\na-->b\")\n",
        "Mermaid(\"\"\"\n",
        "graph TB\n",
        "SRE_review --> investigate_topology;\n",
        "\tSRE_review --> query_knowledge_base;\n",
        "\tSRE_review --> remediate;\n",
        "\t__start__ --> plan_hypothesize;\n",
        "\tchanged_sth_ --> sumo_api_call;\n",
        "\tcomponent_failed_ --> log_summarization;\n",
        "\tcomponent_failed_ --> sumo_api_call;\n",
        "\texternal_changes_ --> log_summarization;\n",
        "\tinvestigate_topology --> SRE_review;\n",
        "\tinvestigate_topology --> sumo_api_call;\n",
        "\tplan_hypothesize --> SRE_review;\n",
        "\tplan_hypothesize --> query_knowledge_base;\n",
        "\tplan_hypothesize --> sumo_api_call;\n",
        "\tremediate --> __end__;\n",
        "\tresource_reach_limit_ --> sumo_api_call;\n",
        "\tservice_hang_ --> log_summarization;\n",
        "\tinvestigate_topology -.-> __end__;\n",
        "\tinvestigate_topology -.-> changed_sth_;\n",
        "\tinvestigate_topology -.-> external_changes_;\n",
        "\tinvestigate_topology -.-> resource_reach_limit_;\n",
        "\tinvestigate_topology -.-> service_hang_;\n",
        "\tinvestigate_topology -.-> component_failed_;\n",
        "\"\"\")\n",
        "#print(graph.get_graph().draw_ascii())"
      ],
      "metadata": {
        "id": "muY9-q9ueuM2"
      },
      "id": "muY9-q9ueuM2",
      "execution_count": null,
      "outputs": []
    },
    {
      "cell_type": "code",
      "source": [
        "!curl -u \"suJp7vD7Ue71da:JMQvGt0SZlISSWdFWQ6paI0A9sdazr03VBCZAT7BPGK7IFTy9f5WlMNKTqJhWKRD\" -X GET https://api.sumologic.com/api/v1/tracing/serviceMap\n"
      ],
      "metadata": {
        "id": "Sc142xRgy-VG"
      },
      "id": "Sc142xRgy-VG",
      "execution_count": null,
      "outputs": []
    },
    {
      "cell_type": "code",
      "source": [
        "import requests\n",
        "\n",
        "username = \"suJp7vD7Ue71da\"\n",
        "password = \"JMQvGt0SZlISSWdFWQ6paI0A9sdazr03VBCZAT7BPGK7IFTy9f5WlMNKTqJhWKRD\"\n",
        "url = \"https://api.sumologic.com/api/v1/tracing/serviceMap\"\n",
        "\n",
        "response = requests.get(url, auth=(username, password))\n",
        "\n",
        "if response.status_code == 200:\n",
        "    print(\"Request successful!\")\n",
        "    print(response.text)\n",
        "else:\n",
        "    print(f\"Request failed with status code: {response.status_code}\")"
      ],
      "metadata": {
        "id": "-rPhiRww6hVb",
        "colab": {
          "base_uri": "https://localhost:8080/"
        },
        "outputId": "af294bda-208e-4645-febb-ab2a4951fdba"
      },
      "id": "-rPhiRww6hVb",
      "execution_count": null,
      "outputs": [
        {
          "output_type": "stream",
          "name": "stdout",
          "text": [
            "Request failed with status code: 401\n"
          ]
        }
      ]
    },
    {
      "cell_type": "code",
      "source": [
        "!pip install requests beautifulsoup4"
      ],
      "metadata": {
        "colab": {
          "base_uri": "https://localhost:8080/"
        },
        "id": "wwXyJW6c2-CX",
        "outputId": "b63ed38a-fff2-40a0-856c-241aa78f82ad"
      },
      "id": "wwXyJW6c2-CX",
      "execution_count": null,
      "outputs": [
        {
          "output_type": "stream",
          "name": "stdout",
          "text": [
            "Requirement already satisfied: requests in /usr/local/lib/python3.11/dist-packages (2.32.3)\n",
            "Requirement already satisfied: beautifulsoup4 in /usr/local/lib/python3.11/dist-packages (4.13.1)\n",
            "Requirement already satisfied: charset-normalizer<4,>=2 in /usr/local/lib/python3.11/dist-packages (from requests) (3.4.1)\n",
            "Requirement already satisfied: idna<4,>=2.5 in /usr/local/lib/python3.11/dist-packages (from requests) (3.10)\n",
            "Requirement already satisfied: urllib3<3,>=1.21.1 in /usr/local/lib/python3.11/dist-packages (from requests) (2.3.0)\n",
            "Requirement already satisfied: certifi>=2017.4.17 in /usr/local/lib/python3.11/dist-packages (from requests) (2025.1.31)\n",
            "Requirement already satisfied: soupsieve>1.2 in /usr/local/lib/python3.11/dist-packages (from beautifulsoup4) (2.6)\n",
            "Requirement already satisfied: typing-extensions>=4.0.0 in /usr/local/lib/python3.11/dist-packages (from beautifulsoup4) (4.12.2)\n"
          ]
        }
      ]
    },
    {
      "cell_type": "code",
      "source": [
        "import requests\n",
        "from bs4 import BeautifulSoup\n",
        "from urllib.parse import urljoin, urlparse\n",
        "import time\n",
        "import os\n",
        "\n",
        "# Please verify that scraping https://help.sumologic.com/ complies with its robots.txt and terms of service before running.\n",
        "\n",
        "def is_valid(url):\n",
        "    \"\"\"\n",
        "    Checks whether the URL has a valid scheme and network location.\n",
        "    \"\"\"\n",
        "    parsed = urlparse(url)\n",
        "    return bool(parsed.scheme) and bool(parsed.netloc)\n",
        "\n",
        "def is_binary_file(url):\n",
        "    try:\n",
        "        response = requests.head(url)\n",
        "        #response.raise_for_status()  # Raise HTTPError for bad responses (4xx or 5xx)\n",
        "        content_type = response.headers.get('Content-Type', '')\n",
        "        return not content_type.startswith('text/')\n",
        "    except requests.exceptions.RequestException:\n",
        "        return False\n",
        "\n",
        "def get_internal_links(url, base_domain):\n",
        "    \"\"\"\n",
        "    Given a URL, returns a set of internal (same-domain) absolute URLs found on that page.\n",
        "    \"\"\"\n",
        "    internal_links = set()\n",
        "    if (is_binary_file(url)):\n",
        "        print(f\"Getting URLs - Skipping binary file: {url}\")\n",
        "        return None\n",
        "    try:\n",
        "        response = requests.get(url)\n",
        "        if response.status_code != 200:\n",
        "            print(f\"Warning: Received status code {response.status_code} for URL: {url}\")\n",
        "            return internal_links\n",
        "    except Exception as e:\n",
        "        print(f\"Error fetching {url}: {e}\")\n",
        "        return internal_links\n",
        "\n",
        "    soup = BeautifulSoup(response.content, \"html.parser\")\n",
        "    # Look for all anchor tags with an href attribute.\n",
        "    for a_tag in soup.find_all(\"a\", href=True):\n",
        "        href = a_tag[\"href\"]\n",
        "        # Skip email or telephone links.\n",
        "        if href.startswith(\"mailto:\") or href.startswith(\"tel:\"):\n",
        "            continue\n",
        "        # Build an absolute URL.\n",
        "        absolute_url = urljoin(url, href)\n",
        "        # Remove URL fragments (anything after a #).\n",
        "        absolute_url = absolute_url.split(\"#\")[0]\n",
        "        # Only add if the URL is valid and in the same domain.\n",
        "        if is_valid(absolute_url):\n",
        "            parsed = urlparse(absolute_url)\n",
        "            if base_domain in parsed.netloc:\n",
        "                internal_links.add(absolute_url)\n",
        "    return internal_links\n",
        "\n",
        "\n",
        "\n",
        "def scrape_page(url):\n",
        "    \"\"\"\n",
        "    Fetches the content of the page at `url` and returns its text content.\n",
        "    \"\"\"\n",
        "    if url.endswith(\".mp4\"):\n",
        "        print(f\"Skipping mp4: {url}\")\n",
        "        return None\n",
        "\n",
        "    if (is_binary_file(url)):\n",
        "        print(f\"Skipping binary file: {url}\")\n",
        "        return None\n",
        "\n",
        "    try:\n",
        "        response = requests.get(url)\n",
        "        if response.status_code != 200:\n",
        "            print(f\"Non-200 status code {response.status_code} for URL: {url}\")\n",
        "            return None\n",
        "    except Exception as e:\n",
        "        print(f\"Error fetching {url}: {e}\")\n",
        "        return None\n",
        "\n",
        "    soup = BeautifulSoup(response.content, \"html.parser\")\n",
        "    # Get visible text; you might want to customize this extraction.\n",
        "    text = soup.get_text(separator=\"\\n\", strip=True)\n",
        "    return text\n",
        "\n",
        "def scrape_website(start_url, base_domain, delay=1):\n",
        "    \"\"\"\n",
        "    Crawls the website starting from `start_url`, collects text content from each page,\n",
        "    and returns a dictionary mapping URLs to their scraped text.\n",
        "    \"\"\"\n",
        "    visited = set()\n",
        "    to_visit = [start_url]\n",
        "    scraped_data = {}\n",
        "\n",
        "    while to_visit:\n",
        "        current_url = to_visit.pop(0)\n",
        "        if current_url in visited:\n",
        "            continue\n",
        "        print(f\"Scraping: {current_url}\")\n",
        "        visited.add(current_url)\n",
        "\n",
        "        # Scrape the page content.\n",
        "        content = scrape_page(current_url)\n",
        "        if content:\n",
        "            scraped_data[current_url] = content\n",
        "\n",
        "        # Extract internal links and add them to the queue.\n",
        "        links = get_internal_links(current_url, base_domain)\n",
        "        if links :\n",
        "          for link in links:\n",
        "            if link not in visited and link not in to_visit:\n",
        "                to_visit.append(link)\n",
        "\n",
        "        # Respectful delay between requests.\n",
        "        time.sleep(delay)\n",
        "\n",
        "    return scraped_data\n",
        "\n",
        "def save_scraped_content(scraped_data, output_dir=\"scraped_content\"):\n",
        "    \"\"\"\n",
        "    Saves the scraped content from each URL into a text file.\n",
        "    The filename is derived from the URL path.\n",
        "    \"\"\"\n",
        "    if not os.path.exists(output_dir):\n",
        "        os.makedirs(output_dir)\n",
        "\n",
        "    for url, content in scraped_data.items():\n",
        "        parsed = urlparse(url)\n",
        "        # Create a filename based on the path. If path is empty, use \"home\".\n",
        "        filename = parsed.path.strip(\"/\").replace(\"/\", \"_\")\n",
        "        if not filename:\n",
        "            filename = \"home\"\n",
        "        filename += \".txt\"\n",
        "        file_path = os.path.join(output_dir, filename)\n",
        "\n",
        "        with open(file_path, \"w\", encoding=\"utf-8\") as f:\n",
        "            f.write(f\"URL: {url}\\n\\n\")\n",
        "            f.write(content)\n",
        "        print(f\"Saved content from {url} to {file_path}\")\n",
        "\n",
        "if __name__ == \"__main__\":\n",
        "    # Starting URL for the Sumo Logic help site.\n",
        "    start_url = \"https://help.sumologic.com/\"\n",
        "    # Base domain to restrict crawling (adjust as needed).\n",
        "    base_domain = \"sumologic.com\"\n",
        "\n",
        "    print(\"Starting website scrape...\")\n",
        "    scraped_data = scrape_website(start_url, base_domain, delay=1)\n",
        "    print(f\"Scraped {len(scraped_data)} pages.\")\n",
        "\n",
        "    print(\"Saving scraped content...\")\n",
        "    save_scraped_content(scraped_data)\n",
        "    print(\"Scraping complete.\")\n"
      ],
      "metadata": {
        "collapsed": true,
        "id": "TrOrlPLo23XK"
      },
      "id": "TrOrlPLo23XK",
      "execution_count": null,
      "outputs": []
    }
  ],
  "metadata": {
    "kernelspec": {
      "display_name": "Python 3",
      "name": "python3"
    },
    "language_info": {
      "codemirror_mode": {
        "name": "ipython",
        "version": 3
      },
      "file_extension": ".py",
      "mimetype": "text/x-python",
      "name": "python",
      "nbconvert_exporter": "python",
      "pygments_lexer": "ipython3",
      "version": "3.11.9"
    },
    "colab": {
      "provenance": [],
      "machine_shape": "hm",
      "gpuType": "A100"
    },
    "accelerator": "GPU"
  },
  "nbformat": 4,
  "nbformat_minor": 5
}